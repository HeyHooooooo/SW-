{
  "nbformat": 4,
  "nbformat_minor": 0,
  "metadata": {
    "colab": {
      "provenance": [],
      "authorship_tag": "ABX9TyPRsdu70NUpkdCnwFEY5FNL",
      "include_colab_link": true
    },
    "kernelspec": {
      "name": "python3",
      "display_name": "Python 3"
    },
    "language_info": {
      "name": "python"
    }
  },
  "cells": [
    {
      "cell_type": "markdown",
      "metadata": {
        "id": "view-in-github",
        "colab_type": "text"
      },
      "source": [
        "<a href=\"https://colab.research.google.com/github/HeyHooooooo/SW-/blob/main/03-06.ipynb\" target=\"_parent\"><img src=\"https://colab.research.google.com/assets/colab-badge.svg\" alt=\"Open In Colab\"/></a>"
      ]
    },
    {
      "cell_type": "code",
      "execution_count": 3,
      "metadata": {
        "id": "69lpX9eSaqBd"
      },
      "outputs": [],
      "source": [
        "import sqlite3"
      ]
    },
    {
      "cell_type": "code",
      "source": [],
      "metadata": {
        "id": "qRpEzP3Bayl6"
      },
      "execution_count": null,
      "outputs": []
    },
    {
      "cell_type": "markdown",
      "source": [
        "Python ----> DMBS ------> DB\n",
        "            SQLITE\n",
        "\n",
        "package sqlite3 func(SQL)\n",
        "\n",
        "python -> select -> sqlite db로 data 가져오게 되면 DBMS에 저장되게 되는데 fetch(cursor 에서 obj) 로 가게 되면 python에 저장되게 된다.\n"
      ],
      "metadata": {
        "id": "DrxBIHo1a_He"
      }
    },
    {
      "cell_type": "code",
      "source": [
        "# DBMS - server, Sqlite serverless\n",
        "# 1. Connection => Client -> Server\n",
        "# 2. Cursor(작업)는 DBMS가 관리하게 되는데\n",
        "sqlite3.connect()"
      ],
      "metadata": {
        "id": "GauAlESYb7bb"
      },
      "execution_count": null,
      "outputs": []
    },
    {
      "cell_type": "code",
      "source": [
        "# dbms://id@host:port/databse 로 보통 나오게 되는데 sqlite 는 아이디 계정이 없고 혼잤느느 DB이며 host, 원격지주소가 없지만 파일경로가 필요하다.\n"
      ],
      "metadata": {
        "id": "zi1Yh2xxce2h"
      },
      "execution_count": null,
      "outputs": []
    },
    {
      "cell_type": "code",
      "source": [
        "conn = sqlite3.connect('test.db.')"
      ],
      "metadata": {
        "id": "z7wEOB5Mc2DV"
      },
      "execution_count": 7,
      "outputs": []
    },
    {
      "cell_type": "code",
      "source": [
        "type(conn)"
      ],
      "metadata": {
        "colab": {
          "base_uri": "https://localhost:8080/"
        },
        "id": "QRa4Gz2odF85",
        "outputId": "b46f45d3-8864-4569-dc5a-cfbef28092ff"
      },
      "execution_count": 8,
      "outputs": [
        {
          "output_type": "execute_result",
          "data": {
            "text/plain": [
              "sqlite3.Connection"
            ]
          },
          "metadata": {},
          "execution_count": 8
        }
      ]
    },
    {
      "cell_type": "code",
      "source": [
        "cur = conn.cursor()"
      ],
      "metadata": {
        "id": "q-z5e1fGdIZd"
      },
      "execution_count": 9,
      "outputs": []
    },
    {
      "cell_type": "code",
      "source": [
        "type(cur)"
      ],
      "metadata": {
        "colab": {
          "base_uri": "https://localhost:8080/"
        },
        "id": "Rl2QLrMKdYjP",
        "outputId": "8b38493e-6c14-4311-ec29-6bd0e07c317b"
      },
      "execution_count": 10,
      "outputs": [
        {
          "output_type": "execute_result",
          "data": {
            "text/plain": [
              "sqlite3.Cursor"
            ]
          },
          "metadata": {},
          "execution_count": 10
        }
      ]
    },
    {
      "cell_type": "code",
      "source": [
        "conn.close()"
      ],
      "metadata": {
        "id": "Ux-rTr6EdaU6"
      },
      "execution_count": 11,
      "outputs": []
    },
    {
      "cell_type": "code",
      "source": [
        "!ls"
      ],
      "metadata": {
        "colab": {
          "base_uri": "https://localhost:8080/"
        },
        "id": "ESmYv0eMdmBU",
        "outputId": "de3c6578-924d-45f4-b22b-ea7282b19857"
      },
      "execution_count": 12,
      "outputs": [
        {
          "output_type": "stream",
          "name": "stdout",
          "text": [
            "sample_data  test.db.\n"
          ]
        }
      ]
    },
    {
      "cell_type": "code",
      "source": [
        "!dir"
      ],
      "metadata": {
        "colab": {
          "base_uri": "https://localhost:8080/"
        },
        "id": "baAGjkdgdpxs",
        "outputId": "b39cbc0f-4dc7-48cd-8aa9-2cd30d821fb3"
      },
      "execution_count": 13,
      "outputs": [
        {
          "output_type": "stream",
          "name": "stdout",
          "text": [
            "sample_data  test.db.\n"
          ]
        }
      ]
    },
    {
      "cell_type": "code",
      "source": [
        "conn = sqlite3.connect('test.db')\n"
      ],
      "metadata": {
        "id": "M9_pBXLudrh4"
      },
      "execution_count": 14,
      "outputs": []
    },
    {
      "cell_type": "code",
      "source": [
        "cur = conn.cursor()"
      ],
      "metadata": {
        "id": "n-juJ7PFd1Pl"
      },
      "execution_count": 15,
      "outputs": []
    },
    {
      "cell_type": "code",
      "source": [
        "cur.execute(한번)\n",
        "cur.execuemany(동일한sql, n번) -> SQL\n",
        "cur.ececutescript(여러sql) -> 비표준, x"
      ],
      "metadata": {
        "id": "4xByC7k6d8yR"
      },
      "execution_count": null,
      "outputs": []
    },
    {
      "cell_type": "code",
      "source": [
        "cur.execute('''\n",
        "  CREATE TABLE CITY (\n",
        "    PK INTEGER PRIMARY KEY,\n",
        "    NAME VARCHAR(1)\n",
        "  ) ;\n",
        "  ''')\n"
      ],
      "metadata": {
        "id": "kjJ6cze7ehzy"
      },
      "execution_count": null,
      "outputs": []
    },
    {
      "cell_type": "markdown",
      "source": [
        "SQLITE는"
      ],
      "metadata": {
        "id": "moZlQHc-ifhn"
      }
    },
    {
      "cell_type": "code",
      "source": [
        "cur.execute('''\n",
        " INSERT INTO CITY (PK, NAME) VALUES (1, \"안암점\");\n",
        " ''')"
      ],
      "metadata": {
        "colab": {
          "base_uri": "https://localhost:8080/"
        },
        "id": "T94KB7mefMoW",
        "outputId": "9a772f50-6d02-421a-fd69-09af975c542d"
      },
      "execution_count": 18,
      "outputs": [
        {
          "output_type": "execute_result",
          "data": {
            "text/plain": [
              "<sqlite3.Cursor at 0x7b81db454d40>"
            ]
          },
          "metadata": {},
          "execution_count": 18
        }
      ]
    },
    {
      "cell_type": "code",
      "source": [
        "cur.execute('''\n",
        "  INSERT INTO CITY (NAME) VALUES(?)\n",
        "  ''')"
      ],
      "metadata": {
        "id": "RybAjpV7fpQs"
      },
      "execution_count": null,
      "outputs": []
    },
    {
      "cell_type": "code",
      "source": [
        "cur.exevutemany()"
      ],
      "metadata": {
        "id": "V2qUokr2ffXj"
      },
      "execution_count": null,
      "outputs": []
    },
    {
      "cell_type": "code",
      "source": [
        "gu = '성북구'\n",
        "cur.execute('''\n",
        "  INSERT INTO CITY (NAME) VALUES (?)\n",
        "  ''', (gu,))"
      ],
      "metadata": {
        "colab": {
          "base_uri": "https://localhost:8080/"
        },
        "id": "nMeJ3arXf-gb",
        "outputId": "43d81fda-e58a-47f3-f00e-91c603ffda43"
      },
      "execution_count": 22,
      "outputs": [
        {
          "output_type": "execute_result",
          "data": {
            "text/plain": [
              "<sqlite3.Cursor at 0x7b81db454d40>"
            ]
          },
          "metadata": {},
          "execution_count": 22
        }
      ]
    },
    {
      "cell_type": "code",
      "source": [
        "cur.execute('''\n",
        "  INSERT INTO CITY (NAME) VALUES (:key)\n",
        "''', {'key':gu})\n",
        "#Named"
      ],
      "metadata": {
        "colab": {
          "base_uri": "https://localhost:8080/"
        },
        "id": "x-kokSrkgNEK",
        "outputId": "7b2cd4d7-50dc-4c56-ece9-651d5de77007"
      },
      "execution_count": 23,
      "outputs": [
        {
          "output_type": "execute_result",
          "data": {
            "text/plain": [
              "<sqlite3.Cursor at 0x7b81db454d40>"
            ]
          },
          "metadata": {},
          "execution_count": 23
        }
      ]
    },
    {
      "cell_type": "code",
      "source": [
        "cur.executemany('''\n",
        " INSERT INTO CITY (NAME) VALUES (?);\n",
        " ''', (('노원구',), ('강북구',), ('중구',)))"
      ],
      "metadata": {
        "colab": {
          "base_uri": "https://localhost:8080/"
        },
        "id": "L9uaCyXIgfAF",
        "outputId": "c42d976e-5a0d-4fa9-a81c-e728d2f40c33"
      },
      "execution_count": 40,
      "outputs": [
        {
          "output_type": "execute_result",
          "data": {
            "text/plain": [
              "<sqlite3.Cursor at 0x7b81db2cb140>"
            ]
          },
          "metadata": {},
          "execution_count": 40
        }
      ]
    },
    {
      "cell_type": "code",
      "source": [
        "cur.lastrowid"
      ],
      "metadata": {
        "colab": {
          "base_uri": "https://localhost:8080/"
        },
        "id": "EjJiS25NhN9z",
        "outputId": "99c910ec-55aa-43d5-ff67-c5dcc659c710"
      },
      "execution_count": 28,
      "outputs": [
        {
          "output_type": "execute_result",
          "data": {
            "text/plain": [
              "3"
            ]
          },
          "metadata": {},
          "execution_count": 28
        }
      ]
    },
    {
      "cell_type": "code",
      "source": [
        "cur.execute('SELECT * FROM CITY')"
      ],
      "metadata": {
        "colab": {
          "base_uri": "https://localhost:8080/"
        },
        "id": "MAJmb4RnhUBR",
        "outputId": "bb8c73ac-b4e2-401b-dcda-ba4cee975cd9"
      },
      "execution_count": 29,
      "outputs": [
        {
          "output_type": "execute_result",
          "data": {
            "text/plain": [
              "<sqlite3.Cursor at 0x7b81db454d40>"
            ]
          },
          "metadata": {},
          "execution_count": 29
        }
      ]
    },
    {
      "cell_type": "code",
      "source": [
        "city = cur.fetchall()\n"
      ],
      "metadata": {
        "id": "OHO86R7hhaom"
      },
      "execution_count": 30,
      "outputs": []
    },
    {
      "cell_type": "code",
      "source": [
        "type(city), len(city)"
      ],
      "metadata": {
        "colab": {
          "base_uri": "https://localhost:8080/"
        },
        "id": "0L2X6Es9heZo",
        "outputId": "d6c38a4c-7885-49fb-9695-60aa0c751d22"
      },
      "execution_count": 31,
      "outputs": [
        {
          "output_type": "execute_result",
          "data": {
            "text/plain": [
              "(list, 9)"
            ]
          },
          "metadata": {},
          "execution_count": 31
        }
      ]
    },
    {
      "cell_type": "code",
      "source": [
        "city[:4]"
      ],
      "metadata": {
        "colab": {
          "base_uri": "https://localhost:8080/"
        },
        "id": "SxPReuLHhioo",
        "outputId": "af09977e-7e34-42ed-95b2-670ee85b7f08"
      },
      "execution_count": 33,
      "outputs": [
        {
          "output_type": "execute_result",
          "data": {
            "text/plain": [
              "[(1, '안암점'), (2, '성북구'), (3, '성북구'), (4, '노원구')]"
            ]
          },
          "metadata": {},
          "execution_count": 33
        }
      ]
    },
    {
      "cell_type": "code",
      "source": [
        "conn.close()"
      ],
      "metadata": {
        "id": "iVnzLrt-h51G"
      },
      "execution_count": 35,
      "outputs": []
    },
    {
      "cell_type": "code",
      "source": [
        "conn = sqlite3.connect('test.db')"
      ],
      "metadata": {
        "id": "G5sFczDTh8fH"
      },
      "execution_count": 36,
      "outputs": []
    },
    {
      "cell_type": "code",
      "source": [
        "cur = conn.cursor()"
      ],
      "metadata": {
        "id": "Tf5_SUTih_2N"
      },
      "execution_count": 37,
      "outputs": []
    },
    {
      "cell_type": "code",
      "source": [
        "cur.execute('SELECT * FROM CITY')"
      ],
      "metadata": {
        "colab": {
          "base_uri": "https://localhost:8080/"
        },
        "id": "l5pM1fOsiDHW",
        "outputId": "af1af92d-2835-4154-9605-31c4d76daf2c"
      },
      "execution_count": 38,
      "outputs": [
        {
          "output_type": "execute_result",
          "data": {
            "text/plain": [
              "<sqlite3.Cursor at 0x7b81db2cb140>"
            ]
          },
          "metadata": {},
          "execution_count": 38
        }
      ]
    },
    {
      "cell_type": "code",
      "source": [
        "cur.fetchall()"
      ],
      "metadata": {
        "colab": {
          "base_uri": "https://localhost:8080/"
        },
        "id": "8TxPyWgMiIxK",
        "outputId": "745ba53d-89ed-4d3b-a1d6-2b08d0b25783"
      },
      "execution_count": 39,
      "outputs": [
        {
          "output_type": "execute_result",
          "data": {
            "text/plain": [
              "[]"
            ]
          },
          "metadata": {},
          "execution_count": 39
        }
      ]
    },
    {
      "cell_type": "code",
      "source": [
        "conn.commit()"
      ],
      "metadata": {
        "id": "7zZjwhebia8_"
      },
      "execution_count": 41,
      "outputs": []
    },
    {
      "cell_type": "markdown",
      "source": [
        "안정성이 확보되어야만 반영을 하는데, commit 은 DBMS를 DB에 반영하는 과정인데, commit이 되는 단위를 transaction이라고 하며,"
      ],
      "metadata": {
        "id": "lo-y44yTi2iR"
      }
    },
    {
      "cell_type": "code",
      "source": [
        "cur.executescript('''\n",
        "    DROP TABLE IF EXISTS SUPPLIER;\n",
        "    CREATE TABLE SUPPLIER (\n",
        "      PK INTEGER PRIMARY KEY,\n",
        "      NAME TEXT,\n",
        "      FK INTEGER NOT NULL\n",
        "    );\n",
        "    DROP TABLE IF EXISTS PART;\n",
        "    CREATE TABLE PART (\n",
        "      PK INTEGER PRIMARY KEY,\n",
        "      NAME TEXT\n",
        "    );\n",
        "    DROP TABLE IF EXISTS SELLS;\n",
        "    CREATE TABLE SELLS (\n",
        "      FK1 INTEGER NOT NULL,\n",
        "      FK2 INTEGER NOT NULL\n",
        "    );\n",
        "   ''')"
      ],
      "metadata": {
        "colab": {
          "base_uri": "https://localhost:8080/"
        },
        "id": "76qWD0OOjEwG",
        "outputId": "b21fdce0-928f-410e-fb8c-ba97d0181b0a"
      },
      "execution_count": 43,
      "outputs": [
        {
          "output_type": "execute_result",
          "data": {
            "text/plain": [
              "<sqlite3.Cursor at 0x7b81db2cb140>"
            ]
          },
          "metadata": {},
          "execution_count": 43
        }
      ]
    },
    {
      "cell_type": "code",
      "source": [
        "cur.executemany('''\n",
        "    INSERT INTO CITY (PK, NAME) VALUES(?,?)\n",
        "    ''', ((1. '성북구'), (2, '강북구'), (3,'중랑')))"
      ],
      "metadata": {
        "colab": {
          "base_uri": "https://localhost:8080/",
          "height": 187
        },
        "id": "NC-tVgeVloO3",
        "outputId": "a90f2658-da87-4c9b-d69e-1f7f954b27ee"
      },
      "execution_count": 45,
      "outputs": [
        {
          "output_type": "error",
          "ename": "IntegrityError",
          "evalue": "UNIQUE constraint failed: CITY.PK",
          "traceback": [
            "\u001b[0;31m---------------------------------------------------------------------------\u001b[0m",
            "\u001b[0;31mIntegrityError\u001b[0m                            Traceback (most recent call last)",
            "\u001b[0;32m<ipython-input-45-a63ab66fa659>\u001b[0m in \u001b[0;36m<cell line: 1>\u001b[0;34m()\u001b[0m\n\u001b[0;32m----> 1\u001b[0;31m cur.executemany('''\n\u001b[0m\u001b[1;32m      2\u001b[0m     \u001b[0mINSERT\u001b[0m \u001b[0mINTO\u001b[0m \u001b[0mCITY\u001b[0m \u001b[0;34m(\u001b[0m\u001b[0mPK\u001b[0m\u001b[0;34m,\u001b[0m \u001b[0mNAME\u001b[0m\u001b[0;34m)\u001b[0m \u001b[0mVALUES\u001b[0m\u001b[0;34m(\u001b[0m\u001b[0;31m?\u001b[0m\u001b[0;34m,\u001b[0m\u001b[0;31m \u001b[0m\u001b[0;31m?\u001b[0m\u001b[0;34m)\u001b[0m\u001b[0;34m\u001b[0m\u001b[0;34m\u001b[0m\u001b[0m\n\u001b[1;32m      3\u001b[0m     ''', ((1, '성북구'), (2, '강북구'), (3, '중랑')))\n",
            "\u001b[0;31mIntegrityError\u001b[0m: UNIQUE constraint failed: CITY.PK"
          ]
        }
      ]
    },
    {
      "cell_type": "code",
      "source": [
        "cur.executemany('''\n",
        " INSERT INTO PART VALUES(:no, :name)\n",
        " ''',  ({'no':1, 'name': '아메리카노'},{'no':2, 'name': '카페라떼'},\n",
        "        {'no':3, 'name': '바닐라라떼'}, {'no':4, 'name': '아이스티'}))"
      ],
      "metadata": {
        "colab": {
          "base_uri": "https://localhost:8080/"
        },
        "id": "batQFnD0m80D",
        "outputId": "bc085181-8faf-475c-e556-9a4534044283"
      },
      "execution_count": 46,
      "outputs": [
        {
          "output_type": "execute_result",
          "data": {
            "text/plain": [
              "<sqlite3.Cursor at 0x7b81db2cb140>"
            ]
          },
          "metadata": {},
          "execution_count": 46
        }
      ]
    },
    {
      "cell_type": "code",
      "source": [
        "cur.execute('''\n",
        "  SELECT PK\n",
        "  FROM CITY\n",
        "  WHERE NAME LIKE ?\n",
        "  ORDER BY PK ASC\n",
        "  LIMIT 0,1\n",
        "  ''', ('%' + gu + '%',))\n",
        "rst = cur.fetchone()\n",
        "fk = 0 if rst == None else rst[0]"
      ],
      "metadata": {
        "id": "revPT5l8pLF2"
      },
      "execution_count": 53,
      "outputs": []
    },
    {
      "cell_type": "code",
      "source": [
        "if fk is not None:\n",
        "  cur.execute('''\n",
        "    INSERT INTO SUPPLIER VALUES(NULL,?,?)\n",
        "    ''')"
      ],
      "metadata": {
        "id": "Ub1M6EL_p4yV"
      },
      "execution_count": null,
      "outputs": []
    },
    {
      "cell_type": "code",
      "source": [
        "cur.execute('SELECT * FROM SUPPLIER')\n",
        "cur. fetchall()"
      ],
      "metadata": {
        "colab": {
          "base_uri": "https://localhost:8080/"
        },
        "id": "CmR7QDzOqd_I",
        "outputId": "88e715d1-f596-49af-dd22-fcfd53603624"
      },
      "execution_count": 58,
      "outputs": [
        {
          "output_type": "execute_result",
          "data": {
            "text/plain": [
              "[]"
            ]
          },
          "metadata": {},
          "execution_count": 58
        }
      ]
    },
    {
      "cell_type": "code",
      "source": [
        "cur.execute('''SELECT PK FROM CITY WHERE NAME LIKE \"%성북%\"\n",
        "               ORDER BY PK ASC\n",
        "               LIMIT 0,1\n",
        "   ''')\n",
        "\n",
        "cur.fetchone()"
      ],
      "metadata": {
        "id": "uZ1qTE04nzYN"
      },
      "execution_count": 52,
      "outputs": []
    },
    {
      "cell_type": "markdown",
      "source": [],
      "metadata": {
        "id": "P-iBIaCXqtOJ"
      }
    },
    {
      "cell_type": "code",
      "source": [],
      "metadata": {
        "id": "KZoVz-zQqtbo"
      },
      "execution_count": null,
      "outputs": []
    },
    {
      "cell_type": "markdown",
      "source": [
        "중첩 SQL 문법\n",
        "INSERT INTO SUPPLIER VALUES(NULL,?,(\n",
        "  SELECT PK FROM CITY\n",
        "  WHERE NAME LIKE ?\n",
        "  ORDER BY PK ASC **굵은 텍스트**\n",
        "  LIMIT 0,1\n",
        "));"
      ],
      "metadata": {
        "id": "1RUHiEDIqw5W"
      }
    },
    {
      "cell_type": "code",
      "source": [],
      "metadata": {
        "id": "YOSx7YwJrLd1"
      },
      "execution_count": null,
      "outputs": []
    },
    {
      "cell_type": "code",
      "source": [
        "gu = '성북'\n",
        "cur.execute('''\n",
        "    SELECT PK\n",
        "    FROM CITY\n",
        "    WHERE NAME LIKE ?\n",
        "    ORDER BY PK ASC\n",
        "    LIMIT 0, 1\n",
        "''', ('%'+gu+'%',))\n",
        "rst = cur.fetchone()\n",
        "fk = None if rst == None else rst[0]\n",
        "store = '안암점'\n",
        "if fk is not None:\n",
        "    cur.execute('''\n",
        "        INSERT INTO SUPPLIER VALUES(NULL, ?, ?);\n",
        "    ''', (store, fk))\n",
        "cur.execute('SELECT * FROM SUPPLIER')\n",
        "cur.fetchall()\n",
        "[(1, '안암점', 1)]\n",
        "# 중첩 SQL"
      ],
      "metadata": {
        "colab": {
          "base_uri": "https://localhost:8080/"
        },
        "id": "_2myqupprh5A",
        "outputId": "c0e878fc-9712-416c-f983-c301b3a2836b"
      },
      "execution_count": 61,
      "outputs": [
        {
          "output_type": "execute_result",
          "data": {
            "text/plain": [
              "[(1, '안암점', 1)]"
            ]
          },
          "metadata": {},
          "execution_count": 61
        }
      ]
    },
    {
      "cell_type": "code",
      "source": [
        "cur.execute('''\n",
        "    INSERT INTO SUPPLIER VALUES(NULL, ?, (\n",
        "        SELECT PK\n",
        "        FROM CITY\n",
        "        WHERE NAME LIKE ?\n",
        "        ORDER BY PK ASC\n",
        "        LIMIT 0, 1\n",
        "    ));\n",
        "''', ('종암점', '*성북*'));"
      ],
      "metadata": {
        "colab": {
          "base_uri": "https://localhost:8080/",
          "height": 224
        },
        "id": "FhbbrLP9sjug",
        "outputId": "30cae6e6-0a44-40a3-d8d3-a8657fa9e185"
      },
      "execution_count": 65,
      "outputs": [
        {
          "output_type": "error",
          "ename": "IntegrityError",
          "evalue": "NOT NULL constraint failed: SUPPLIER.FK",
          "traceback": [
            "\u001b[0;31m---------------------------------------------------------------------------\u001b[0m",
            "\u001b[0;31mIntegrityError\u001b[0m                            Traceback (most recent call last)",
            "\u001b[0;32m<ipython-input-65-3be19671e2e2>\u001b[0m in \u001b[0;36m<cell line: 1>\u001b[0;34m()\u001b[0m\n\u001b[0;32m----> 1\u001b[0;31m cur.execute('''\n\u001b[0m\u001b[1;32m      2\u001b[0m     INSERT INTO SUPPLIER VALUES(NULL, ?, (\n\u001b[1;32m      3\u001b[0m         \u001b[0mSELECT\u001b[0m \u001b[0mPK\u001b[0m\u001b[0;34m\u001b[0m\u001b[0;34m\u001b[0m\u001b[0m\n\u001b[1;32m      4\u001b[0m         \u001b[0mFROM\u001b[0m \u001b[0mCITY\u001b[0m\u001b[0;34m\u001b[0m\u001b[0;34m\u001b[0m\u001b[0m\n\u001b[1;32m      5\u001b[0m         \u001b[0mWHERE\u001b[0m \u001b[0mNAME\u001b[0m \u001b[0mLIKE\u001b[0m\u001b[0;31m \u001b[0m\u001b[0;31m?\u001b[0m\u001b[0;34m\u001b[0m\u001b[0;34m\u001b[0m\u001b[0m\n",
            "\u001b[0;31mIntegrityError\u001b[0m: NOT NULL constraint failed: SUPPLIER.FK"
          ]
        }
      ]
    },
    {
      "cell_type": "code",
      "source": [
        "cur,execute('''\n",
        " SELECT B.NAME, COUNT(A.NAME) FROM SUPPLIER AS A\n",
        " LEFT JOIN CITY AS B\n",
        " ON B.PK = A.FK\n",
        " GROUP BY B.PK\n",
        " ORDER BY B.NAME ASC\n",
        " ''')"
      ],
      "metadata": {
        "id": "ZAISmcmItKzm"
      },
      "execution_count": null,
      "outputs": []
    },
    {
      "cell_type": "markdown",
      "source": [],
      "metadata": {
        "id": "lyMe-VKmu6xV"
      }
    },
    {
      "cell_type": "code",
      "source": [
        "#SUPPLIER - PART - SELLS를 만약에 JOIN 한다면\n",
        "\n",
        "cur.execute('''\n",
        "    SELECT B.NAME, C.NAME\n",
        "    FROM SELLS AS A\n",
        "    INNER JOIN SUPPLIER A B\n",
        "    ON .PK = A.FK1\n",
        "    INNER JOIN PART AS C\n",
        "    ON C.PK = A.FK2)"
      ],
      "metadata": {
        "id": "mD_4hTpBu7Di"
      },
      "execution_count": null,
      "outputs": []
    },
    {
      "cell_type": "code",
      "source": [
        "cur.execute('''\n",
        " SELECT A.NAME, B.FK1\n",
        " FROM PART AS A\n",
        " LEFT JOIN SELLS AS B\n",
        " ON A.PK = B.FK2\n",
        " INNER JOIN SUPPLIER AS C\n",
        " ON B.FK1 = C.PK\n",
        " GROUP BY A.PK )"
      ],
      "metadata": {
        "id": "OBLv_IYmvtKx"
      },
      "execution_count": null,
      "outputs": []
    },
    {
      "cell_type": "code",
      "source": [
        "cur.execute('''\n",
        " SELECT A.NAME, B.FK1\n",
        " FROM PART AS A\n",
        " LEFT JOIN SELLS AS B\n",
        " ON A.PK = B.FK2\n",
        " INNER JOIN SUPPLIER AS C\n",
        " ON B.FK1 = C.PK\n",
        " GROUP BY A.PK )"
      ],
      "metadata": {
        "id": "vWv6ABFYwYdq"
      },
      "execution_count": null,
      "outputs": []
    },
    {
      "cell_type": "code",
      "source": [],
      "metadata": {
        "id": "odVCfpnLIIe9"
      },
      "execution_count": null,
      "outputs": []
    },
    {
      "cell_type": "code",
      "source": [],
      "metadata": {
        "id": "ulPL9bXuIYze"
      },
      "execution_count": null,
      "outputs": []
    }
  ]
}